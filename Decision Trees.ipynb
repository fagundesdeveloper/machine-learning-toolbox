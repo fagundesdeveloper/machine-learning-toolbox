{
 "cells": [
  {
   "cell_type": "markdown",
   "metadata": {},
   "source": [
    "Decision trees involve the greedy selection of the best split point from the dataset at each step. This algorithim makes decision trees susceptible to high variance if they are not pruned. One way around this is to  create multiple trees with different samples of the training dataset and combining predictions, this is called bootsrap aggregation or bagging. However if trees have similar split points then it mitigates the variance that was sought and predictions are likely to be similar. \n",
    "\n",
    " \n",
    "Using a decision tree to find the optimal decision is called solving the tree. To sovle a decision tree we work backwards. \n",
    "\n",
    "Descision trees are easy to read and use, this is very useful in practice. "
   ]
  },
  {
   "cell_type": "markdown",
   "metadata": {},
   "source": [
    "decision trees are fragile to changes in data value and lack reproducability- for that reason they are not as useful for prediction but because they are easy to interpret that can be a great tool for data exploration\n",
    "\n",
    "\n",
    "random forest are built to immediately address the concerns of reproducability and sensitivity to changes in data\n",
    "\n",
    "decision trees look for a split on every variable on every node while random forests look for a split on one variable- the variable with the largest association with target among candidate explanatory varianles, whih is a subset of the total list of explanatory variables. \n",
    "\n",
    "Each tree is grown by a subset of the explanatory variables at each node and a random subset of the sample for each tree in the forest. \n",
    "\n",
    "There is the bagged data, the subset chosen to generate the tree, and the ou-of-bag data- that is available to test the accuracy of the trees. \n",
    "\n",
    "The trees themselves are not interpretted, they are used collectively to rank the importance of variables in predicting the target of interest."
   ]
  }
 ],
 "metadata": {
  "kernelspec": {
   "display_name": "Python 3",
   "language": "python",
   "name": "python3"
  },
  "language_info": {
   "codemirror_mode": {
    "name": "ipython",
    "version": 3
   },
   "file_extension": ".py",
   "mimetype": "text/x-python",
   "name": "python",
   "nbconvert_exporter": "python",
   "pygments_lexer": "ipython3",
   "version": "3.5.2"
  }
 },
 "nbformat": 4,
 "nbformat_minor": 2
}
