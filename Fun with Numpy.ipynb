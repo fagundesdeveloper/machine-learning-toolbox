{
 "cells": [
  {
   "cell_type": "code",
   "execution_count": 5,
   "metadata": {
    "collapsed": true
   },
   "outputs": [],
   "source": [
    "%matplotlib inline\n",
    "import matplotlib.pyplot as plt\n",
    "import numpy as np\n",
    "import sys\n",
    "import seaborn as sns; sns.set()\n",
    "\n",
    "\n",
    "    "
   ]
  },
  {
   "cell_type": "code",
   "execution_count": 4,
   "metadata": {},
   "outputs": [
    {
     "ename": "TypeError",
     "evalue": "'numpy.ndarray' object is not callable",
     "output_type": "error",
     "traceback": [
      "\u001b[0;31m---------------------------------------------------------------------------\u001b[0m",
      "\u001b[0;31mTypeError\u001b[0m                                 Traceback (most recent call last)",
      "\u001b[0;32m<ipython-input-4-16cbee07377a>\u001b[0m in \u001b[0;36m<module>\u001b[0;34m()\u001b[0m\n\u001b[1;32m      1\u001b[0m \u001b[0marray\u001b[0m \u001b[0;34m=\u001b[0m \u001b[0mnp\u001b[0m\u001b[0;34m.\u001b[0m\u001b[0marange\u001b[0m\u001b[0;34m(\u001b[0m\u001b[0;36m1000\u001b[0m\u001b[0;34m)\u001b[0m\u001b[0;34m\u001b[0m\u001b[0m\n\u001b[0;32m----> 2\u001b[0;31m \u001b[0mb\u001b[0m \u001b[0;34m=\u001b[0m \u001b[0marray\u001b[0m\u001b[0;34m(\u001b[0m\u001b[0;36m1000\u001b[0m\u001b[0;34m)\u001b[0m\u001b[0;34m.\u001b[0m\u001b[0msizeOf\u001b[0m\u001b[0;34m\u001b[0m\u001b[0m\n\u001b[0m\u001b[1;32m      3\u001b[0m \u001b[0mprint\u001b[0m\u001b[0;34m(\u001b[0m\u001b[0marray\u001b[0m\u001b[0;34m.\u001b[0m\u001b[0msize\u001b[0m\u001b[0;34m*\u001b[0m\u001b[0marray\u001b[0m\u001b[0;34m.\u001b[0m\u001b[0mitemsize\u001b[0m\u001b[0;34m)\u001b[0m\u001b[0;34m\u001b[0m\u001b[0m\n\u001b[1;32m      4\u001b[0m \u001b[0;34m\u001b[0m\u001b[0m\n\u001b[1;32m      5\u001b[0m \u001b[0marray2\u001b[0m \u001b[0;34m=\u001b[0m \u001b[0mnp\u001b[0m\u001b[0;34m.\u001b[0m\u001b[0marange\u001b[0m\u001b[0;34m(\u001b[0m\u001b[0;36m1000\u001b[0m\u001b[0;34m)\u001b[0m\u001b[0;34m\u001b[0m\u001b[0m\n",
      "\u001b[0;31mTypeError\u001b[0m: 'numpy.ndarray' object is not callable"
     ]
    }
   ],
   "source": [
    "array = np.arange(1000)\n",
    "a = \n",
    "print(array.size*array.itemsize)\n",
    "\n",
    "array2 = np.arange(1000)\n",
    "result = [(x + y) for x, y in zip(array, array2)]\n"
   ]
  },
  {
   "cell_type": "code",
   "execution_count": 12,
   "metadata": {},
   "outputs": [
    {
     "name": "stdout",
     "output_type": "stream",
     "text": [
      "3\n",
      "[[[ 0.88090636 -0.03861493]\n",
      "  [ 0.59454374  0.87057752]\n",
      "  [ 0.3913207   0.17822361]\n",
      "  [-2.36394285 -0.66311528]]\n",
      "\n",
      " [[ 1.26933878  0.24108847]\n",
      "  [ 0.34337032 -0.16724024]\n",
      "  [ 0.18806855  0.40522419]\n",
      "  [-0.38440686 -1.76725822]]\n",
      "\n",
      " [[-1.3624359   0.00885936]\n",
      "  [-0.02806737  0.53971363]\n",
      "  [-0.57162587 -0.30176184]\n",
      "  [ 0.66447928  0.52536199]]\n",
      "\n",
      " [[ 0.19193372 -0.47994978]\n",
      "  [-0.65010788  0.88364199]\n",
      "  [ 0.58964144  0.92388108]\n",
      "  [-0.48643678  0.7025045 ]]]\n"
     ]
    }
   ],
   "source": [
    "a = np.array(np.random.randn(4, 4, 2))\n",
    "print(a.ndim)\n",
    "print(a)"
   ]
  },
  {
   "cell_type": "code",
   "execution_count": 23,
   "metadata": {},
   "outputs": [
    {
     "data": {
      "text/plain": [
       "array([ 0.88090636, -0.03861493,  0.59454374,  0.87057752,  0.3913207 ,\n",
       "        0.17822361, -2.36394285, -0.66311528,  1.26933878,  0.24108847,\n",
       "        0.34337032, -0.16724024,  0.18806855,  0.40522419, -0.38440686,\n",
       "       -1.76725822, -1.3624359 ,  0.00885936, -0.02806737,  0.53971363,\n",
       "       -0.57162587, -0.30176184,  0.66447928,  0.52536199,  0.19193372,\n",
       "       -0.47994978, -0.65010788,  0.88364199,  0.58964144,  0.92388108,\n",
       "       -0.48643678,  0.7025045 ])"
      ]
     },
     "execution_count": 23,
     "metadata": {},
     "output_type": "execute_result"
    }
   ],
   "source": [
    "b = np.array([[1, 1], [3, 3]], dtype= np.int32)\n",
    "a.dtype\n",
    "b.dtype\n",
    "\n",
    "a.size #total element\n",
    "a.shape #dimensions\n",
    "\n",
    "np.zeros((4, 4))\n",
    "np.linspace(1, 10, 3)\n",
    "\n",
    "#a.reshape(8, 4)\n",
    "a.ravel()"
   ]
  },
  {
   "cell_type": "code",
   "execution_count": 31,
   "metadata": {},
   "outputs": [
    {
     "name": "stdout",
     "output_type": "stream",
     "text": [
      "[[0 1 2 3 4]\n",
      " [5 6 7 8 9]]\n"
     ]
    }
   ],
   "source": [
    "#Mathematical Functions\n",
    "\n",
    "#a.max()\n",
    "#a.min()\n",
    "#a.sum()\n",
    "\n",
    "# There is this idea of axis that identifies and axis in a matric\n",
    "\n",
    "a.sum(axis=1)\n",
    "c = np.array([2, 5, 6, 0])\n",
    "c.sum(axis=0)\n",
    "\n",
    "#np.sqrt()# will compute sqrt of each value\n",
    "#np.std()\n",
    "\n",
    "a = np.array([[2, 3], [2, 3]])\n",
    "\n",
    "#np can do .dot and / * simple operations natively \n",
    "#n = [0: ] included, not included\n",
    "\n",
    "# be aware when it is refering to each element and each row\n",
    "\n",
    "d = np.array([[1, 2, 3], [34, 4, 5], [6, 7, 8]])\n",
    "d[0:2, 2] # prints the 2th element of rows 0 and 1`\n",
    "\n",
    "# a quick way to build matrix \n",
    "e = np.arange(10).reshape(2, 5)\n",
    "print(e)\n",
    "\n",
    "#np.vstack() stacks two arrays ontop of eachother \n",
    "# takes a tuple, can also stack horizontal hstack()\n",
    "\n",
    "# np.hsplit and np.vsplit\n",
    "# np.hsplit(a, 3)\n",
    "# a > b creates a matrix of true and falses for each value \n",
    "# of type bool\n",
    "\n",
    "#super cool bool math with these bool matrix where we can\n",
    "# do some set math an transform large parts of the matrix\n",
    "\n",
    "\n",
    "\n"
   ]
  }
 ],
 "metadata": {
  "kernelspec": {
   "display_name": "Python 3",
   "language": "python",
   "name": "python3"
  },
  "language_info": {
   "codemirror_mode": {
    "name": "ipython",
    "version": 3
   },
   "file_extension": ".py",
   "mimetype": "text/x-python",
   "name": "python",
   "nbconvert_exporter": "python",
   "pygments_lexer": "ipython3",
   "version": "3.5.2"
  }
 },
 "nbformat": 4,
 "nbformat_minor": 2
}
