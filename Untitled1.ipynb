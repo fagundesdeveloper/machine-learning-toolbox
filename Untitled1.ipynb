{
 "cells": [
  {
   "cell_type": "markdown",
   "metadata": {},
   "source": [
    "testing and validation \n",
    "\n",
    "leave one out cross validation \n",
    "train the model on all the data minus1- test with that one observation that was held out, repeat. \n",
    "\n",
    "repeat this for every observation and we have as many test error estimates as observations in the data set. we can then average the test errors estimates to get an overall test error. \n"
   ]
  }
 ],
 "metadata": {
  "kernelspec": {
   "display_name": "Python 3",
   "language": "python",
   "name": "python3"
  },
  "language_info": {
   "codemirror_mode": {
    "name": "ipython",
    "version": 3
   },
   "file_extension": ".py",
   "mimetype": "text/x-python",
   "name": "python",
   "nbconvert_exporter": "python",
   "pygments_lexer": "ipython3",
   "version": "3.5.2"
  }
 },
 "nbformat": 4,
 "nbformat_minor": 2
}
