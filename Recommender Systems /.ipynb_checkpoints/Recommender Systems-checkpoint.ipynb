{
 "cells": [
  {
   "cell_type": "markdown",
   "metadata": {},
   "source": [
    "### Recommender Systems"
   ]
  },
  {
   "cell_type": "markdown",
   "metadata": {},
   "source": [
    "There are two most common types of recommender systems, **content-based** and **collaborative filtering**\n",
    "\n",
    "Collaborative filtering(CF) produces reocmmendations based on the knowledge of users' attitude, the 'wisdom of the crowd'\n",
    "\n",
    "Content-based recommender systems focus on the attributes of the items and gives you recommendations based on the similarity between them. \n",
    "\n",
    "CF is most often used in practice because it is realtively straight forward and it can begin to learn features to recommend on its own. CF is divided into memory-based collaborative filtering and model-based collaborative filtering. "
   ]
  },
  {
   "cell_type": "code",
   "execution_count": null,
   "metadata": {
    "collapsed": true
   },
   "outputs": [],
   "source": [
    "#uses the movie lens datasaet\n",
    "\n",
    "import numpy as np \n",
    "import pandas as pd\n",
    "\n",
    "columns_names= ['user_id', 'item_id', 'rating', 'timestamp']\n",
    "df = pd.read_csv('u.data', sep='\\t', names= columns_names)\n",
    "\n",
    "df.head()"
   ]
  },
  {
   "cell_type": "code",
   "execution_count": null,
   "metadata": {
    "collapsed": true
   },
   "outputs": [],
   "source": [
    "movie_titles  = pd.read.csv('Movie_ID_Titles')\n",
    "\n",
    "df = pd.merge(df, movie_titles, on='item_id')"
   ]
  },
  {
   "cell_type": "code",
   "execution_count": null,
   "metadata": {
    "collapsed": true
   },
   "outputs": [],
   "source": [
    "import matplotlib.pyplot as plt\n",
    "import seaborn as sns\n",
    "%matplotlib inline\n",
    "\n",
    "sns.set_style('white')\n",
    "df.groupby('title')['rating'].mean().sort_values(ascending = False).head()\n",
    "df.groupby('title')['rating'].count().sort_values(ascending = False).head()\n",
    "\n",
    "ratings = pd.DataFrame(df.groupby('title'['rating'].mean())\n",
    "ratings['num of raitngs'] = pd.DataFrame(df.groupby('title')['rating'].count())\n",
    "\n",
    "ratings['num of ratings'].hist(bins = 70)\n",
    "sns.jointplot(x = 'rating', y = 'num of ratings', data = ratings, alpha=0.5)"
   ]
  },
  {
   "cell_type": "code",
   "execution_count": null,
   "metadata": {
    "collapsed": true
   },
   "outputs": [],
   "source": [
    "moviemat = df.pivot_table(index= 'user_id', columns='title', vlaues = 'rating')\n",
    "\n",
    "#most of the movies won't have all the ratings so instead\n",
    "#we look at the most rated \n",
    "\n",
    "ratings.sort_values('num of ratings', ascending= False)\n",
    "starwars_user_ratings = moviemat['Star Wars (1977)']\n",
    "liarliar_user_ratings= moviemat['Liar Liar (1977)']\n",
    "\n",
    "# provides correlation between star wars and the other movies\n",
    "similar_to_starwars = moviemat.corwith(starwars_user_ratings)\n",
    "#get correlations with liar liar\n",
    "\n",
    "#add correlations for liar liar and star wars to dataframe\n",
    "\n",
    "corr_starwars =pd.DataFrame(similar_to_starwars, columns =['Correlaiton'])\n",
    "corr_starwars.dropna(inplace = True)\n",
    "\n",
    "corr_starwars.sort_values('Correlation', ascending= False)\n",
    "\n",
    "corr_starwars = corr_starwars.join(ratings['num of ratings'])\n",
    "\n",
    "#more looking at the state of the data\n",
    "corr_starwars[corr_starwars['num of strings'] > 100].sort_values('Correlation', ascending = False).head()\n",
    "\n"
   ]
  }
 ],
 "metadata": {
  "kernelspec": {
   "display_name": "Python 3",
   "language": "python",
   "name": "python3"
  },
  "language_info": {
   "codemirror_mode": {
    "name": "ipython",
    "version": 3
   },
   "file_extension": ".py",
   "mimetype": "text/x-python",
   "name": "python",
   "nbconvert_exporter": "python",
   "pygments_lexer": "ipython3",
   "version": "3.6.1"
  }
 },
 "nbformat": 4,
 "nbformat_minor": 2
}
