{
 "cells": [
  {
   "cell_type": "markdown",
   "metadata": {},
   "source": [
    "from the n independent variables of your dataset. lda extracts p <= n new independent variables that seperate the most the classes of the dependent variable. \n",
    "\n",
    "it considers the classes of the dependent varible, the use of the dependent variable in LDA makes it a supervised model.  \n",
    "\n",
    "we are looking for the independet variables that best divide the classes rather than independent variables that best explain the variance\n",
    "\n"
   ]
  },
  {
   "cell_type": "code",
   "execution_count": null,
   "metadata": {
    "collapsed": true
   },
   "outputs": [],
   "source": [
    "#at the end where we compare lda and pca outcomes\n",
    "\n",
    "#break data up into groups\n",
    "from sklearn.cross_validation import train_test_split, x_train, x_test, y_train, y_test = train_test_split(x, y, test_size = 0.2, random_state = 0) \n",
    "# cross_validation should be model_selection\n",
    "\n",
    "#feature scaling\n",
    "#scale the data so each has a unit variance\n",
    "from sklearn.preprocessing import StandardScalar \n",
    "sc = StandardScaler()\n",
    "x_train = sc.fit.transform(x_train) \n",
    "x_test = sc.transform(x_test)\n",
    "\n",
    "#applying LDA\n",
    "from sklearn.discriminant_analysis import LinearDesriminantAnalysis as LDA\n",
    "lda = LDA(n_components = 2)\n",
    "x_train = LDA(x_train, y_train)\n",
    "x_test = LDA(x_test)\n",
    "\n",
    "#logistic regression \n",
    "from sklearn.linear_model import LogisticRegression\n",
    "classifer = LogisticRegression(random_state = 0)\n",
    "classifier.fit(x_train, y_train)\n",
    "\n",
    "y_pred = classifier.predict(x_test)\n",
    "\n",
    "from sklearn.metrics import confusion_matrix\n",
    "cm = confusion_matrix(y_test, y_pred)"
   ]
  }
 ],
 "metadata": {
  "kernelspec": {
   "display_name": "Python 3",
   "language": "python",
   "name": "python3"
  },
  "language_info": {
   "codemirror_mode": {
    "name": "ipython",
    "version": 3
   },
   "file_extension": ".py",
   "mimetype": "text/x-python",
   "name": "python",
   "nbconvert_exporter": "python",
   "pygments_lexer": "ipython3",
   "version": "3.6.1"
  }
 },
 "nbformat": 4,
 "nbformat_minor": 2
}
