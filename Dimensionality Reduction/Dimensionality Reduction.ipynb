{
 "cells": [
  {
   "cell_type": "markdown",
   "metadata": {},
   "source": [
    "# Dimensionality Reduction\n",
    "\n",
    "The purpose of dimensionality reduction is to identify patterns to reduce dimensions of the dataset with minimal loss of information. \n",
    "\n",
    "In dimensionality reduction there are two techniques, feature selection and feature extraction. \n",
    "\n",
    "(a little bit more about these thwo things)\n",
    "\n",
    "Feature scaling must be applied when we use dimensionality reduction techniques like feature extraction or feature selection. \n",
    "\n",
    "(link too feature scaling, which can inlcude methods to deal with missing data)\n"
   ]
  },
  {
   "cell_type": "markdown",
   "metadata": {},
   "source": [
    "\n",
    "\n",
    "| Feature Selection | Feature Extraction | \n",
    "| :---: | :---: |\n",
    "| Backward Elimination | Principal Componenet Analysis (PCA) | \n",
    "| Forward Elimination | Linear Discriminant Analysis (LDA) | \n",
    "| Bidirectional Elimination | Kernel PCA |\n",
    "| Score Comparison | Principle Least Squares Regression|\n",
    "| | Quadratic Discriminant Analysis (QDA) |"
   ]
  }
 ],
 "metadata": {
  "kernelspec": {
   "display_name": "Python 3",
   "language": "python",
   "name": "python3"
  },
  "language_info": {
   "codemirror_mode": {
    "name": "ipython",
    "version": 3
   },
   "file_extension": ".py",
   "mimetype": "text/x-python",
   "name": "python",
   "nbconvert_exporter": "python",
   "pygments_lexer": "ipython3",
   "version": "3.6.1"
  }
 },
 "nbformat": 4,
 "nbformat_minor": 2
}
