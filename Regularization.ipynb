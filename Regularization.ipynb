{
 "cells": [
  {
   "cell_type": "markdown",
   "metadata": {},
   "source": [
    "l2 - also called the euclidean norm, spreads out the params- show equations for each kind \n",
    "l1 - encourages sparsity \n",
    "elastic-net\n",
    "max norm\n",
    "batch normalization\n",
    "stochastic normalization\n",
    "\n",
    "accoding to justin johnson l2 is close to MAP inference using a gaussian parameter prior"
   ]
  }
 ],
 "metadata": {
  "kernelspec": {
   "display_name": "Python 3",
   "language": "python",
   "name": "python3"
  },
  "language_info": {
   "codemirror_mode": {
    "name": "ipython",
    "version": 3
   },
   "file_extension": ".py",
   "mimetype": "text/x-python",
   "name": "python",
   "nbconvert_exporter": "python",
   "pygments_lexer": "ipython3",
   "version": "3.6.1"
  }
 },
 "nbformat": 4,
 "nbformat_minor": 2
}
