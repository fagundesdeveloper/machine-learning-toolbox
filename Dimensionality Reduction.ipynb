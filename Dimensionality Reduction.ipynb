{
 "cells": [
  {
   "cell_type": "markdown",
   "metadata": {},
   "source": [
    "The main purpose of principal componenet analysis is to identify patterns to reduce dimensions of the dataset with minimal loss of information\n",
    "\n",
    "\n",
    "variance- covariance matrix, varinace on the diagonol and the covariance between the other variables everywhere else\n",
    "\n",
    "mean vector - means of attributes\n",
    "say we have 5 observations with 3 attributes\n",
    "mean vector is the means of each variable\n",
    "\n",
    "3. compute eigenvectors and correspondign eigenvalues\n",
    "4. sort the eigen vectors by deceasing eigevalues and choos k eigenvectors with the largest eigenvalues to construct the d x k eigenvector matrix to transform the samples into a new subspace"
   ]
  },
  {
   "cell_type": "code",
   "execution_count": 3,
   "metadata": {
    "collapsed": true
   },
   "outputs": [],
   "source": [
    "import numpy as np "
   ]
  },
  {
   "cell_type": "markdown",
   "metadata": {},
   "source": [
    "### Eigenvector"
   ]
  },
  {
   "cell_type": "markdown",
   "metadata": {},
   "source": []
  },
  {
   "cell_type": "code",
   "execution_count": 2,
   "metadata": {
    "collapsed": true
   },
   "outputs": [],
   "source": [
    "import numpy as np\n",
    "\n"
   ]
  },
  {
   "cell_type": "code",
   "execution_count": null,
   "metadata": {
    "collapsed": true
   },
   "outputs": [],
   "source": []
  },
  {
   "cell_type": "markdown",
   "metadata": {},
   "source": [
    "In dimensionality reduction there are two techniques, feature selection and feature extraction,\n",
    "\n",
    "Feature scaling must be applied when we use dimensionality reduction techniques like feature extraction or feature selection. "
   ]
  },
  {
   "cell_type": "code",
   "execution_count": null,
   "metadata": {
    "collapsed": true
   },
   "outputs": [],
   "source": [
    "#break data up into groups\n",
    "from sklearn.cross_validation import train_test_split, x_train, x_test, y_train, y_test = train_test_split(x, y, test_size = 0.2, random_state = 0) \n",
    "# cross_validation should be model_selection\n",
    "\n",
    "#feature scaling\n",
    "#scale the data so each has a unit variance\n",
    "from sklearn.preprocessing import StandardScalar \n",
    "sc = StandardScaler()\n",
    "x_train = sc.fit.transform(x_train) \n",
    "x_test = sc.transform(x_test)\n",
    "\n",
    "#applying pca\n",
    "from sklearn.docomposition import PCA\n",
    "pca = PCA(n_components = None)\n",
    "\n",
    "#make a graph where we see how much variance is described by each component\n",
    "#along with other data that might help us understand how many components make\n",
    "#sense for some data\n",
    "\n",
    "#train and transform data\n",
    "x_train = pca.fit_transform(x_train) #can also be two diff methods\n",
    "x_test = pca.fit_transform(x_test)\n",
    "\n",
    "#cumulative explained variance\n",
    "#dont forget to annotate variable output \n",
    "#look at stack overflow question to understand the variance \n",
    "explained_variance = pca.explained_variance_raio_\n",
    "\n",
    "#logistic regression model\n",
    "from sklearn.linear_model import LogisticRegression\n",
    "classifier = LogisticRegression(random_state = 0)\n",
    "classifer.fit(x_train, y_train)\n",
    "\n",
    "y_pred = classifier.predict(x_test)\n",
    "\n",
    "#confusion matrix\n",
    "from sklearn.metrics import confusion_matrix\n",
    "cm = confusion_matrix(y_test, y_pred)\n",
    "\n",
    "#in the last pca video they have this great graph showing the calssification \n",
    "#and areas of each node. "
   ]
  },
  {
   "cell_type": "markdown",
   "metadata": {},
   "source": []
  }
 ],
 "metadata": {
  "kernelspec": {
   "display_name": "Python 3",
   "language": "python",
   "name": "python3"
  },
  "language_info": {
   "codemirror_mode": {
    "name": "ipython",
    "version": 3
   },
   "file_extension": ".py",
   "mimetype": "text/x-python",
   "name": "python",
   "nbconvert_exporter": "python",
   "pygments_lexer": "ipython3",
   "version": "3.6.1"
  }
 },
 "nbformat": 4,
 "nbformat_minor": 2
}
