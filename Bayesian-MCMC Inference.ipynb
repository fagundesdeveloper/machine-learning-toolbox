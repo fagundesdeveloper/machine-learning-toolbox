{
 "cells": [
  {
   "cell_type": "markdown",
   "metadata": {},
   "source": [
    "Provide a step by step basis for how to frame and ask quesitons in bayesian inference\n",
    "\n",
    "what is the probability distribution over some parameters (range) of a variable\n",
    "\n",
    "given a prior distribution (show with s plot) what is the likelihood function expressed as a bernouli distribution\n",
    "\n",
    "inculde measurements like the:\n",
    "hpd highest posterior density \n",
    "rope  region of practical equivalence \n",
    "\n",
    "\n",
    "\n",
    "show the differnce in prior distributions and the change in updating with more information \n",
    "\n"
   ]
  }
 ],
 "metadata": {
  "kernelspec": {
   "display_name": "Python 3",
   "language": "python",
   "name": "python3"
  },
  "language_info": {
   "codemirror_mode": {
    "name": "ipython",
    "version": 3
   },
   "file_extension": ".py",
   "mimetype": "text/x-python",
   "name": "python",
   "nbconvert_exporter": "python",
   "pygments_lexer": "ipython3",
   "version": "3.5.2"
  }
 },
 "nbformat": 4,
 "nbformat_minor": 2
}
