{
 "cells": [
  {
   "cell_type": "markdown",
   "metadata": {},
   "source": [
    "pca and lde are for data that is linearly seperable, kernel pca is for data that is non-linearly seperable. \n",
    "\n",
    "it converts to polar coordinates, show a map of raw data outputs that make sense for kernel pca- which would be data that is like tow concentric circles. \n",
    "\n",
    "kernel pca is a kernelized version of pca where we use the kernel trick to map the data to a higher fimension and then perform pca. \n",
    "\n",
    "#look at the social network data and the non-linear data methods... from a-z\n",
    "\n",
    "the graphs that are used to look at logistic regressio equations do a great job of showing the difference in a linearly and non-linearly seperable data and how a non-linear modeling technique like logistic regression attempts to create groups\n",
    "\n",
    "at 5 minutes in the kernel pca in python video is shows the graph\n",
    "\n",
    "the trick is to apply the kernel pca method to the linear data to perform pca on non-linear seperable data and then to use a linear classification mehtod like logistic regression. \n",
    "\n",
    "kernel trick creates linear dimension"
   ]
  },
  {
   "cell_type": "code",
   "execution_count": null,
   "metadata": {
    "collapsed": true
   },
   "outputs": [],
   "source": [
    "#kernel pca is right after fitting data/standardscaler\n",
    "#and right before applying the regression\n",
    "\n",
    "from sklearn.decomposition import KernelPCA \n",
    "kpca = KernelPCA(n_components= 2, kernel= 'rbf')\n",
    "x_train = kpca.fit_transform(x_train)\n",
    "x_test = kpca.transform(x_test) \n",
    "\n"
   ]
  }
 ],
 "metadata": {
  "kernelspec": {
   "display_name": "Python 3",
   "language": "python",
   "name": "python3"
  },
  "language_info": {
   "codemirror_mode": {
    "name": "ipython",
    "version": 3
   },
   "file_extension": ".py",
   "mimetype": "text/x-python",
   "name": "python",
   "nbconvert_exporter": "python",
   "pygments_lexer": "ipython3",
   "version": "3.6.1"
  }
 },
 "nbformat": 4,
 "nbformat_minor": 2
}
