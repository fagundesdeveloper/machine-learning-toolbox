{
 "cells": [
  {
   "cell_type": "markdown",
   "metadata": {},
   "source": [
    "# Kernel PCA\n",
    "\n",
    "Principle Component Analysis and Linear Descriminant Analysis are for data that is linearly seperable. Kernel PCA is a dimensionality reduction technique that uses a kernel method- in this example RBF (Radial Bias Function)- to transform data to a higher dimensionand then applies PCA. After kernel PCA you can then use linear classification techniques like logistic regression.\n",
    "\n",
    " \n",
    "\n",
    "it converts to polar coordinates, show a map of raw data outputs that make sense for kernel pca- which would be data that is like tow concentric circles. (show the before and after) \n",
    "\n",
    "#look at the social network data and the non-linear data methods... from a-z\n",
    "\n",
    "at 5 minutes in the kernel pca in python video is shows the graph\n",
    "\n",
    "\n",
    "\n",
    "\n",
    "### Properties \n",
    "\n",
    "### Considerations\n",
    "\n"
   ]
  },
  {
   "cell_type": "code",
   "execution_count": null,
   "metadata": {
    "collapsed": true
   },
   "outputs": [],
   "source": []
  },
  {
   "cell_type": "code",
   "execution_count": null,
   "metadata": {
    "collapsed": true
   },
   "outputs": [],
   "source": [
    "#kernel pca is right after fitting data/standardscaler\n",
    "#and right before applying the regression\n",
    "\n",
    "from sklearn.decomposition import KernelPCA \n",
    "kpca = KernelPCA(n_components= 2, kernel= 'rbf')\n",
    "x_train = kpca.fit_transform(x_train)\n",
    "x_test = kpca.transform(x_test) \n",
    "\n"
   ]
  }
 ],
 "metadata": {
  "kernelspec": {
   "display_name": "Python 3",
   "language": "python",
   "name": "python3"
  },
  "language_info": {
   "codemirror_mode": {
    "name": "ipython",
    "version": 3
   },
   "file_extension": ".py",
   "mimetype": "text/x-python",
   "name": "python",
   "nbconvert_exporter": "python",
   "pygments_lexer": "ipython3",
   "version": "3.6.1"
  }
 },
 "nbformat": 4,
 "nbformat_minor": 2
}
