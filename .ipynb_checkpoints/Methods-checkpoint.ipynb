{
 "cells": [
  {
   "cell_type": "markdown",
   "metadata": {},
   "source": [
    "### Gini Impurity"
   ]
  },
  {
   "cell_type": "markdown",
   "metadata": {},
   "source": [
    "Gini impurity is a standard measure of misclassification. It is used in decision trees to measure the homogeneity of groups and therefore the quality of a point used to split our tree. \n",
    "\n",
    "From Wikipedia:\n",
    "\n",
    ">Gini impurity is a measure of how often a randomly chosen element from the set would be incorrectly labeled if it was randomly labeled according to the distribution of labels in the subset. Gini impurity can be computed by summing the probability \n",
    "\n",
    "$p_{i}$ of an item with label ${i}$ being chosen times the probability $1-p_{i}$ of a mistake in categorizing that item. \n",
    "\n",
    ">It reaches its minimum (zero) when all cases in the node fall into a single target category.\n",
    "\n",
    "It's important not to confuse gini impurity with gini coefficient- though both can be used in deicison trees in some cases. "
   ]
  },
  {
   "cell_type": "markdown",
   "metadata": {},
   "source": [
    "To compute the Gini impurity for a set of items with $J$ classes, suppose $i \\in {1,2,...,J}$, let $p_{1}$ be the fraction of items labeled with class $i$ in the set.\n",
    "\n",
    "$$I_{G}(p) = \\sum_{i=1}^J p_{i}(1-p_{i}) = \\sum_{i=1}^J p_{i}(1-p_{i}^{2}) = \\sum_{i=1}^J p_{i} - \\sum_{i=1}^J p_{i}^{2}= 1 - \\sum_{i=1}^J p_{i}^{2} = \\sum_{i\\ne k}p_{i}p_{k}$$\n"
   ]
  },
  {
   "cell_type": "markdown",
   "metadata": {},
   "source": [
    "##### Psuedo Code for Gini Impurity\n",
    "\n",
    "1. Determine the probability for each class in the group to be randomly chosen \n",
    "2. Multiply each class together\n",
    "3. Determine the probability of a every other class be assign \n",
    "4. 1-score * (group size/total size) "
   ]
  },
  {
   "cell_type": "code",
   "execution_count": 149,
   "metadata": {},
   "outputs": [],
   "source": [
    "%matplotlib inline\n",
    "import pandas as pd \n",
    "import matplotlib.pyplot as plt\n",
    "import math\n",
    "#add seaborn to make better the visualizations\n",
    "from IPython.display import display\n",
    "\n",
    "headers = ['index','refractive index', 'sodium', 'magnesium', 'aluminum', 'silicon', 'potassium', 'calcium', 'barium', 'iron', 'type of glass']\n",
    "df = pd.read_csv('glass_data.csv', names = headers)\n",
    "\n"
   ]
  },
  {
   "cell_type": "code",
   "execution_count": 161,
   "metadata": {},
   "outputs": [
    {
     "name": "stdout",
     "output_type": "stream",
     "text": [
      "2    3\n",
      "6    2\n",
      "1    2\n",
      "7    1\n",
      "5    1\n",
      "3    1\n",
      "Name: type of glass, dtype: int64\n",
      "2    6\n",
      "3    2\n",
      "7    1\n",
      "5    1\n",
      "Name: type of glass, dtype: int64\n"
     ]
    },
    {
     "data": {
      "image/png": "[encoded data removed]",
      "text/plain": [
       "<matplotlib.figure.Figure at 0x7f2cd86a5198>"
      ]
     },
     "metadata": {},
     "output_type": "display_data"
    }
   ],
   "source": [
    "size_of_sample = 20\n",
    "df_sample = df.sample(size_of_sample)\n",
    "split_point = int(math.floor(size_of_sample/2))\n",
    "labels = [1, 2, 3, 4, 5, 6, 7]\n",
    "groups = [df_sample.iloc[:split_point, :], df_sample.iloc[split_point:, :]]\n",
    "\n",
    "g_labels = [groups[0].iloc[:, -1].value_counts(), groups[1].iloc[:, -1].value_counts()]\n",
    "\n",
    "def gini_impurity(groups):\n",
    "    n_samples = sum([len(group) for group in groups]) #add float \n",
    "    gini = 0.0\n",
    "    for group in groups:\n",
    "        group_size = float(len(group))\n",
    "        if group_size == 0:\n",
    "            continue\n",
    "        score = sum(group.iloc[:, -1].value_counts().map(lambda p: (p/group_size)* (p/group_size)))\n",
    "        gini += (1.0 - score) * (group_size / n_samples)\n",
    "    return gini\n",
    "    \n",
    "gini = gini_impurity(groups)\n",
    "print(g_labels[0])\n",
    "print(g_labels[1])\n",
    "bins = np.arange(7) #[0, 1, 2, 3, 4, 5, 6, 7]\n",
    "#probably have to muck with the labels that I'm passing in\n",
    "plt.hist(g_labels[0], alpha = 0.5, label='group 1', align='mid')\n",
    "plt.hist(g_labels[1], alpha = 0.5, label='group 2', align='mid')\n",
    "plt.legend(loc='upper right')\n",
    "plt.title('Sample Classification Frequencies')\n",
    "plt.xlabel('Classifciation Label')\n",
    "plt.ylabel('Frequency')\n",
    "plt.ylim([0, 10])\n",
    "plt.xlim([0, 7])\n",
    "plt.show()"
   ]
  }
 ],
 "metadata": {
  "kernelspec": {
   "display_name": "Python 3",
   "language": "python",
   "name": "python3"
  },
  "language_info": {
   "codemirror_mode": {
    "name": "ipython",
    "version": 3
   },
   "file_extension": ".py",
   "mimetype": "text/x-python",
   "name": "python",
   "nbconvert_exporter": "python",
   "pygments_lexer": "ipython3",
   "version": "3.6.1"
  }
 },
 "nbformat": 4,
 "nbformat_minor": 2
}
