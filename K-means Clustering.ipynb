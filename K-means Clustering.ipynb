{
 "cells": [
  {
   "cell_type": "code",
   "execution_count": 2,
   "metadata": {},
   "outputs": [],
   "source": [
    "%matplotlib inline\n",
    "import matplotlib.pyplot as plt\n",
    "import numpy as np\n",
    "import seaborn as sns; sns.set()\n",
    "\n",
    "\n",
    "    "
   ]
  },
  {
   "cell_type": "code",
   "execution_count": 9,
   "metadata": {},
   "outputs": [
    {
     "name": "stdout",
     "output_type": "stream",
     "text": [
      "8000\n"
     ]
    }
   ],
   "source": [
    "array = np.arange(1000)\n",
    "print(array.size*array.itemsize)\n",
    "\n",
    "array2 = np.arange(1000)\n",
    "result = [(x + y) for x, y in zip(array, array2)]\n"
   ]
  },
  {
   "cell_type": "code",
   "execution_count": 12,
   "metadata": {},
   "outputs": [
    {
     "name": "stdout",
     "output_type": "stream",
     "text": [
      "3\n",
      "[[[ 0.88090636 -0.03861493]\n",
      "  [ 0.59454374  0.87057752]\n",
      "  [ 0.3913207   0.17822361]\n",
      "  [-2.36394285 -0.66311528]]\n",
      "\n",
      " [[ 1.26933878  0.24108847]\n",
      "  [ 0.34337032 -0.16724024]\n",
      "  [ 0.18806855  0.40522419]\n",
      "  [-0.38440686 -1.76725822]]\n",
      "\n",
      " [[-1.3624359   0.00885936]\n",
      "  [-0.02806737  0.53971363]\n",
      "  [-0.57162587 -0.30176184]\n",
      "  [ 0.66447928  0.52536199]]\n",
      "\n",
      " [[ 0.19193372 -0.47994978]\n",
      "  [-0.65010788  0.88364199]\n",
      "  [ 0.58964144  0.92388108]\n",
      "  [-0.48643678  0.7025045 ]]]\n"
     ]
    }
   ],
   "source": [
    "a = np.array(np.random.randn(4, 4, 2))\n",
    "print(a.ndim)\n",
    "print(a)"
   ]
  },
  {
   "cell_type": "code",
   "execution_count": 15,
   "metadata": {},
   "outputs": [
    {
     "data": {
      "text/plain": [
       "array([[ 0.,  0.,  0.,  0.],\n",
       "       [ 0.,  0.,  0.,  0.],\n",
       "       [ 0.,  0.,  0.,  0.],\n",
       "       [ 0.,  0.,  0.,  0.]])"
      ]
     },
     "execution_count": 15,
     "metadata": {},
     "output_type": "execute_result"
    }
   ],
   "source": [
    "b = np.array([[1, 1], [3, 3]], dtype= np.int32)\n",
    "a.dtype\n",
    "b.dtype\n",
    "\n",
    "a.size #total element\n",
    "a.shape #dimensions\n",
    "\n",
    "np.zeros((4, 4))\n",
    "np.linspace(1, 5)"
   ]
  }
 ],
 "metadata": {
  "kernelspec": {
   "display_name": "Python 3",
   "language": "python",
   "name": "python3"
  },
  "language_info": {
   "codemirror_mode": {
    "name": "ipython",
    "version": 3
   },
   "file_extension": ".py",
   "mimetype": "text/x-python",
   "name": "python",
   "nbconvert_exporter": "python",
   "pygments_lexer": "ipython3",
   "version": "3.5.2"
  }
 },
 "nbformat": 4,
 "nbformat_minor": 2
}
